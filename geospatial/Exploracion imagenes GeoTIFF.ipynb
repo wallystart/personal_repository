{
 "cells": [
  {
   "cell_type": "markdown",
   "metadata": {},
   "source": [
    "### Notebook para realizar exploraciones rapidas de imagenes GeoTIFF\n",
    "\n",
    "Las imagenes tif poseen bandas las cuales estan georeferenciadas con una latitud y longitud, cada elemento de estas bandas corresponden al dato de un PIXEL de la imagen. La densidad de datos de la imagen esta dada en la resolucion de la imagen ej: Imagenes de satelite Sentinel 10mx10m"
   ]
  },
  {
   "cell_type": "code",
   "execution_count": 3,
   "metadata": {},
   "outputs": [],
   "source": [
    "import rasterio\n",
    "from rasterio import plot\n",
    "import pandas as pd\n",
    "import numpy as np"
   ]
  },
  {
   "cell_type": "markdown",
   "metadata": {},
   "source": [
    "Plot image raster"
   ]
  },
  {
   "cell_type": "code",
   "execution_count": 25,
   "metadata": {},
   "outputs": [],
   "source": [
    "#PARAMS\n",
    "path_image_raster = \"./v4/NASA_USDA_SMAP_SM20190502_20190504.ssm.tif\""
   ]
  },
  {
   "cell_type": "code",
   "execution_count": 26,
   "metadata": {},
   "outputs": [
    {
     "data": {
      "image/png": "[encoded data removed]",
      "text/plain": [
       "<Figure size 432x288 with 1 Axes>"
      ]
     },
     "metadata": {
      "needs_background": "light"
     },
     "output_type": "display_data"
    },
    {
     "data": {
      "text/plain": [
       "<AxesSubplot:>"
      ]
     },
     "execution_count": 26,
     "metadata": {},
     "output_type": "execute_result"
    }
   ],
   "source": [
    "ph = rasterio.open(path_image_raster, driver=\"GTiff\")\n",
    "plot.show(ph, cmap='gist_ncar')"
   ]
  },
  {
   "cell_type": "code",
   "execution_count": 27,
   "metadata": {},
   "outputs": [
    {
     "data": {
      "image/png": "[encoded data removed]",
      "text/plain": [
       "<Figure size 432x288 with 1 Axes>"
      ]
     },
     "metadata": {
      "needs_background": "light"
     },
     "output_type": "display_data"
    },
    {
     "data": {
      "text/plain": [
       "<AxesSubplot:>"
      ]
     },
     "execution_count": 27,
     "metadata": {},
     "output_type": "execute_result"
    }
   ],
   "source": [
    "plot.show(ph)"
   ]
  },
  {
   "cell_type": "code",
   "execution_count": 28,
   "metadata": {},
   "outputs": [
    {
     "data": {
      "text/plain": [
       "array([[[-999.]]], dtype=float32)"
      ]
     },
     "execution_count": 28,
     "metadata": {},
     "output_type": "execute_result"
    }
   ],
   "source": [
    "#mirar la primer banda\n",
    "ph.read()"
   ]
  },
  {
   "cell_type": "code",
   "execution_count": 23,
   "metadata": {},
   "outputs": [
    {
     "data": {
      "text/plain": [
       "array([-999.], dtype=float32)"
      ]
     },
     "execution_count": 23,
     "metadata": {},
     "output_type": "execute_result"
    }
   ],
   "source": [
    "#mirar la ultima banda\n",
    "ph.read()[0].reshape(-1)"
   ]
  },
  {
   "cell_type": "code",
   "execution_count": null,
   "metadata": {},
   "outputs": [],
   "source": [
    "#cuantas bandas posee?\n",
    "len(ph.read()[0])"
   ]
  },
  {
   "cell_type": "markdown",
   "metadata": {},
   "source": [
    "Function transform raster data (image GeoTIFF) to vector data (Geodataframe)"
   ]
  },
  {
   "cell_type": "markdown",
   "metadata": {},
   "source": [
    "*** ESTA IMAGEN TIENE DEMASIADAS BANDAS, EN LA LINEA 13 SE TOMA SOLO UNA BANDA"
   ]
  },
  {
   "cell_type": "code",
   "execution_count": 2,
   "metadata": {},
   "outputs": [],
   "source": [
    "#Function convert raster image to  vector data\n",
    "def raster_to_geodataframe(image_path, name_bands=None):\n",
    "    # Making dataframe with rows and columns indexes of the raster\n",
    "    data = pd.DataFrame()\n",
    "    row_idxs, col_idxs, lon, lat = get_lonlat(image_path)\n",
    "    data['row_idxs'] = row_idxs\n",
    "    data['col_idxs'] = col_idxs\n",
    "    # Add latitude and longitude columns into dataframe\n",
    "    data['longitude'], data['latitude'] = lon, lat\n",
    "\n",
    "    # Add bands column into dataframe\n",
    "    raster_image = rasterio.open(image_path).read()\n",
    "    for idx, band in enumerate(raster_image[0][:1]):\n",
    "        if(name_bands):\n",
    "            name_band = name_bands[idx]\n",
    "        else:\n",
    "            name_band = f'band_{idx}'\n",
    "            \n",
    "    data[name_band] = band\n",
    "    \n",
    "    return gpd.GeoDataFrame(data)\n",
    "    \n",
    "def get_lonlat(image_path):\n",
    "# From long/lat to east/north with Rasterio\n",
    "  with rasterio.open(image_path) as src:\n",
    "  # From row/col to long/lat and east/north with Rasterio\n",
    "      row, col = get_row_col_idxs(image_path)     \n",
    "      lon, lat  = src.xy(row, col) # image --> spatial coordinates\n",
    "      return row, col, lon, lat\n",
    "def get_row_col_idxs(image_path):\n",
    "    raster_image = get_raster_image(image_path)\n",
    "    # Matrix --> Rows and columns Index (Shape: MxN)\n",
    "    col_idxs, row_idxs = np.meshgrid(np.arange(raster_image.shape[2]), np.arange(raster_image.shape[1]))\n",
    "    # Get coordinates of matrix pixels in vector\n",
    "    col_idxs = col_idxs.reshape(-1)\n",
    "    row_idxs = row_idxs.reshape(-1)\n",
    "    return row_idxs, col_idxs\n",
    "def get_raster_image(image_path):\n",
    "    # Get raster\n",
    "    r_image = rasterio.open(image_path)\n",
    "    # NDVI values of pixels\n",
    "    raster_image = r_image.read()\n",
    "    return raster_image"
   ]
  },
  {
   "cell_type": "markdown",
   "metadata": {},
   "source": [
    "Transform"
   ]
  },
  {
   "cell_type": "code",
   "execution_count": null,
   "metadata": {},
   "outputs": [],
   "source": [
    "gdf_image = raster_to_geodataframe(path_image_raster)"
   ]
  },
  {
   "cell_type": "code",
   "execution_count": null,
   "metadata": {},
   "outputs": [],
   "source": [
    "gdf_image.head()"
   ]
  },
  {
   "cell_type": "code",
   "execution_count": null,
   "metadata": {},
   "outputs": [],
   "source": [
    "#creamos la georeferencia con la latitud y longitud\n",
    "def create_point_object(row):\n",
    "    lon = row['longitude']\n",
    "    lat = row['latitude']\n",
    "    return Point(lon, lat)\n",
    "\n",
    "gdf_image['geometry'] = gdf_image.apply(lambda row: create_point_object(row), axis=1)"
   ]
  },
  {
   "cell_type": "code",
   "execution_count": null,
   "metadata": {},
   "outputs": [],
   "source": [
    "gdf_image.plot()"
   ]
  },
  {
   "cell_type": "markdown",
   "metadata": {},
   "source": [
    "Fin exploracion rapida"
   ]
  }
 ],
 "metadata": {
  "kernelspec": {
   "display_name": "Python 3",
   "language": "python",
   "name": "python3"
  },
  "language_info": {
   "codemirror_mode": {
    "name": "ipython",
    "version": 3
   },
   "file_extension": ".py",
   "mimetype": "text/x-python",
   "name": "python",
   "nbconvert_exporter": "python",
   "pygments_lexer": "ipython3",
   "version": "3.8.3"
  }
 },
 "nbformat": 4,
 "nbformat_minor": 4
}
