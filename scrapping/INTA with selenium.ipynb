{
 "cells": [
  {
   "cell_type": "code",
   "execution_count": null,
   "metadata": {},
   "outputs": [],
   "source": [
    "\"\"\"  \n",
    "  wget  https://chromedriver.storage.googleapis.com/83.0.4103.39/chromedriver_linux64.zip -O /tmp/chromedriver_linux64.zip\n",
    "  mkdir /tmp/chromedriver\n",
    "  unzip /tmp/chromedriver_linux64.zip -d /tmp/chromedriver/\n",
    "  sudo add-apt-repository ppa:canonical-chromium-builds/stage\n",
    "  /usr/bin/yes | sudo apt update\n",
    "  /usr/bin/yes | sudo apt install chromium-browser\n",
    "\"\"\""
   ]
  },
  {
   "cell_type": "code",
   "execution_count": null,
   "metadata": {},
   "outputs": [],
   "source": [
    "#Se utiliza selenium para dar click en el boton debido a que es una pagina dinamica\n",
    "from selenium import webdriver\n",
    "import pandas as pd\n",
    "from lxml import html\n",
    "import time\n",
    "\n",
    "#Se levanda un webdriver\n",
    "chrome_options = webdriver.ChromeOptions()\n",
    "chrome_options.add_argument('--no-sandbox')\n",
    "chrome_options.add_argument('--headless')\n",
    "chrome_options.add_argument('--disable-dev-shm-usage')\n",
    "chrome_driver = \"/tmp/chromedriver/chromedriver\"\n",
    "driver = webdriver.Chrome(executable_path=chrome_driver, chrome_options=chrome_options)\n",
    "\n",
    "#Se ejecutan los pasos correspondientes para llegar a la tabla\n",
    "driver.get('http://siga.inta.gov.ar/#/data')\n",
    "#Se espera 5 segundos para que cargue la pagina\n",
    "time.sleep(5)\n",
    "driver.execute_script('document.getElementsByClassName(\"tabFont\")[1].click();')\n",
    "#Boton para descargar csv\n",
    "#driver.execute_script('document.getElementById(\"btnDatosHorarios\").click();')\n",
    "\n",
    "#Luego de visualizar la tabla, se extrae el contenido html\n",
    "page = html.fromstring(driver.page_source)\n",
    "trs = page.xpath('/html/body/div[2]/div/div[2]/div/div[2]/div[2]/div[1]/div[2]/div/div/div[1]/div/table//tr')\n",
    "print(len(trs))\n",
    "#Se procesa el html para convertir la tabla a un df\n",
    "df = None\n",
    "if trs:\n",
    "    items = []\n",
    "    for tr in trs[1:]:\n",
    "        #print(tr.xpath('td[1]//text()'), len(trs))\n",
    "        item = {\n",
    "                        \"Nombre\": tr.xpath('td[1]//text()')[0] if tr.xpath('td[1]//text()') else None,\n",
    "                        \"Tipo\": tr.xpath('td[2]//text()')[0] if tr.xpath('td[2]//text()') else None,\n",
    "                        \"Localidad\": tr.xpath('td[3]//text()')[0] if tr.xpath('td[3]//text()') else None,\n",
    "                        \"Provincia\": tr.xpath('td[4]//text()')[0] if tr.xpath('td[4]//text()') else None,\n",
    "                        \"Id Interno\": tr.xpath('td[5]//text()')[0] if tr.xpath('td[5]//text()') else None,\n",
    "                        \"Desde\": tr.xpath('td[6]//text()')[0] if tr.xpath('td[6]//text()') else None,\n",
    "                        \"Hasta\": tr.xpath('td[7]//text()')[0] if tr.xpath('td[7]//text()') else None,\n",
    "                        \"Días\": tr.xpath('td[8]//text()')[0] if tr.xpath('td[8]//text()') else None,\n",
    "                    }\n",
    "        items.append(item)\n",
    "\n",
    "\n",
    "        df = pd.DataFrame(items, columns=['Nombre','Tipo','Provincia','Id Interno',\n",
    "                    'Desde','Hasta','Días'])\n",
    "\n",
    "#Se almacena en el lake\n",
    "df.to_csv('/dbfs/mnt/test/raw-data/automations/weather_station/Estaciones.csv')"
   ]
  }
 ],
 "metadata": {
  "kernelspec": {
   "display_name": "Python 3",
   "language": "python",
   "name": "python3"
  },
  "language_info": {
   "codemirror_mode": {
    "name": "ipython",
    "version": 3
   },
   "file_extension": ".py",
   "mimetype": "text/x-python",
   "name": "python",
   "nbconvert_exporter": "python",
   "pygments_lexer": "ipython3",
   "version": "3.8.3"
  }
 },
 "nbformat": 4,
 "nbformat_minor": 4
}
